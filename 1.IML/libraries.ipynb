{
 "cells": [
  {
   "cell_type": "markdown",
   "metadata": {},
   "source": [
    "## Imports\n"
   ]
  },
  {
   "cell_type": "code",
   "execution_count": null,
   "metadata": {},
   "outputs": [],
   "source": [
    "import numpy as np\n",
    "import sklearn\n",
    "import sklearn.datasets\n",
    "import matplotlib.pyplot as plt\n",
    "from sklearn.inspection import DecisionBoundaryDisplay\n"
   ]
  },
  {
   "cell_type": "markdown",
   "metadata": {},
   "source": [
    "# Øvelse\n",
    "I denne opgave skal i kigge på at bruge sklearn til at implementere en række modeller på det samme dataset. "
   ]
  },
  {
   "cell_type": "code",
   "execution_count": null,
   "metadata": {},
   "outputs": [],
   "source": [
    "wine = sklearn.datasets.load_wine()\n",
    "\n",
    "\n",
    "# Iris datasættet er som sagt ikke bare et numpy array :(((, så for at tilgå dataen skal vi bruge nogle af datasættets egenskaber (properties i Python) således:\n",
    "\n",
    "print(f\"Der er {wine.data.shape[0]} datapunkter, hver med {wine.data.shape[1]} features \\n\")\n",
    "\n",
    "print(f\"Datasaettets features hedder {wine.feature_names} \\n\")\n",
    "\n",
    "print(f\"Et udsnit af de foerste 10 punkter er: \\n {wine.data[:10]} \\n\")\n",
    "\n",
    "print(f\"Disse 10 foerste punkters targets (deres y-vaerdier er): \\n {wine.target[:10]} \\n\")"
   ]
  },
  {
   "cell_type": "code",
   "execution_count": null,
   "metadata": {},
   "outputs": [],
   "source": [
    "new_ordering = np.random.permutation(len(wine.data))\n",
    "\n",
    "wine.data = wine.data[new_ordering]\n",
    "wine.target = wine.target[new_ordering]\n",
    "\n",
    "print(f\"De 10 nye første værdier er nu \\n {wine.data[:10]} \\n\")\n",
    "\n",
    "print(f\"Med tilhørende nye værdier: \\n {wine.target[:10]} \\n\")\n"
   ]
  },
  {
   "cell_type": "markdown",
   "metadata": {},
   "source": [
    "Til sidst splitter vi data i træningsdata og testdata"
   ]
  },
  {
   "cell_type": "code",
   "execution_count": null,
   "metadata": {},
   "outputs": [],
   "source": [
    "idx = np.random.permutation(wine.data.shape[0])\n",
    "X, y = wine.data[idx], wine.target[idx]\n",
    "X_train, y_train = X[:int(0.6 * X.shape[0])], y[:int(0.6 * X.shape[0])]\n",
    "X_val, y_val = X[int(0.6 * X.shape[0]):int(0.8 * X.shape[0])], y[int(0.6 * X.shape[0]):int(0.8 * X.shape[0])]\n",
    "X_test, y_test = X[int(0.8 * X.shape[0]):], y[int(0.8 * X.shape[0]):]"
   ]
  },
  {
   "cell_type": "markdown",
   "metadata": {},
   "source": [
    "### Øvelse 1\n",
    "Træn `sklearn.neighbors.KNeighborsClassifier` på wine træningsdatasættet."
   ]
  },
  {
   "cell_type": "code",
   "execution_count": null,
   "metadata": {},
   "outputs": [],
   "source": [
    "# Din kode her"
   ]
  },
  {
   "cell_type": "markdown",
   "metadata": {},
   "source": [
    "Brug valideringsdatasættet til at bestemme den bedste værdi for antallet af naboer `k`, samt hvorvidt vægte forbedre resultatet. Plot resultatet:"
   ]
  },
  {
   "cell_type": "code",
   "execution_count": null,
   "metadata": {},
   "outputs": [],
   "source": [
    "# Din kode her"
   ]
  },
  {
   "cell_type": "markdown",
   "metadata": {},
   "source": [
    "Brug resultatet til fra forrige opgave til at bestemme den bedste model. Brug test sættet til at få et estimat for det aktuelle loss. "
   ]
  },
  {
   "cell_type": "code",
   "execution_count": null,
   "metadata": {},
   "outputs": [],
   "source": [
    "# Din kode her"
   ]
  },
  {
   "cell_type": "markdown",
   "metadata": {},
   "source": [
    "Vi antager at vores testset gav et fornuftigt estimat for vores nøjagtighed. Svare det til den nøjagtighed vi forventede fra udvælgelsen af `k`? Hvis nej, hvad kunne dette skyldes?"
   ]
  },
  {
   "cell_type": "markdown",
   "metadata": {},
   "source": [
    "### Øvelse 2\n",
    "Træn `sklearn.svm.SVC` på wine træningsdatasættet."
   ]
  },
  {
   "cell_type": "code",
   "execution_count": null,
   "metadata": {},
   "outputs": [],
   "source": [
    "# Din kode her"
   ]
  },
  {
   "cell_type": "markdown",
   "metadata": {},
   "source": [
    "For en support vector machine er der mange parametre der kunne være interessante at kigge på. Lav en søgning der finder den bedste kombination af følgende parametre for `sklearn.svm.SVC`. Læs dokumentationen for at finde ud af hvilke værdier de kan tage, og hvornår de betyder noget.\n",
    "* `C`\n",
    "* `kernel`\n",
    "* `degree`"
   ]
  },
  {
   "cell_type": "code",
   "execution_count": null,
   "metadata": {},
   "outputs": [],
   "source": [
    "# Din kode her"
   ]
  },
  {
   "cell_type": "markdown",
   "metadata": {},
   "source": [
    "Brug resultatet til fra forrige opgave til at bestemme den bedste model. Brug test sættet til at få et estimat for det aktuelle loss. "
   ]
  },
  {
   "cell_type": "code",
   "execution_count": null,
   "metadata": {},
   "outputs": [],
   "source": [
    "# Din kode her"
   ]
  },
  {
   "cell_type": "markdown",
   "metadata": {},
   "source": [
    "Vi antager at vores testset gav et fornuftigt estimat for vores nøjagtighed. Svare det til den nøjagtighed vi forventede fra udvælgelsen af `k`? Hvis nej, hvad kunne dette skyldes?"
   ]
  }
 ],
 "metadata": {
  "kernelspec": {
   "display_name": "cda",
   "language": "python",
   "name": "python3"
  },
  "language_info": {
   "codemirror_mode": {
    "name": "ipython",
    "version": 3
   },
   "file_extension": ".py",
   "mimetype": "text/x-python",
   "name": "python",
   "nbconvert_exporter": "python",
   "pygments_lexer": "ipython3",
   "version": "3.12.3"
  }
 },
 "nbformat": 4,
 "nbformat_minor": 2
}
